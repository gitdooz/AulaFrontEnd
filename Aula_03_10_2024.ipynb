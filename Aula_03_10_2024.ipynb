{
  "nbformat": 4,
  "nbformat_minor": 0,
  "metadata": {
    "colab": {
      "provenance": [],
      "authorship_tag": "ABX9TyMmYeNLv1sFntOhDmlE3IBU",
      "include_colab_link": true
    },
    "kernelspec": {
      "name": "python3",
      "display_name": "Python 3"
    },
    "language_info": {
      "name": "python"
    }
  },
  "cells": [
    {
      "cell_type": "markdown",
      "metadata": {
        "id": "view-in-github",
        "colab_type": "text"
      },
      "source": [
        "<a href=\"https://colab.research.google.com/github/gitdooz/AulaFrontEnd/blob/main/Aula_03_10_2024.ipynb\" target=\"_parent\"><img src=\"https://colab.research.google.com/assets/colab-badge.svg\" alt=\"Open In Colab\"/></a>"
      ]
    },
    {
      "cell_type": "code",
      "execution_count": 22,
      "metadata": {
        "colab": {
          "base_uri": "https://localhost:8080/"
        },
        "id": "tny-oe7-aMge",
        "outputId": "fe6a3ab3-287b-4290-95ef-2ae147112d01"
      },
      "outputs": [
        {
          "output_type": "stream",
          "name": "stdout",
          "text": [
            "maçã\n"
          ]
        }
      ],
      "source": [
        "lista_frutas = ['banana','laranja','maçã','abacate','uva']\n",
        "\n",
        "print(lista_frutas[2])"
      ]
    },
    {
      "cell_type": "code",
      "source": [
        "numero = int(input(\"Digite um número: \"))\n",
        "\n",
        "if numero%2 == 0:\n",
        "  print(f\"O número {numero} é par.\")\n",
        "else:\n",
        "  print(f\"O número {numero} não é par.\")"
      ],
      "metadata": {
        "colab": {
          "base_uri": "https://localhost:8080/"
        },
        "id": "_Nx25xzEb0_-",
        "outputId": "a8a372fa-b49d-41ee-bee8-275a4ca7ef00"
      },
      "execution_count": 11,
      "outputs": [
        {
          "output_type": "stream",
          "name": "stdout",
          "text": [
            "Digite um número: 90\n",
            "O número 90 é par.\n"
          ]
        }
      ]
    },
    {
      "cell_type": "code",
      "source": [
        "numero = int(input(\"Digite um número: \"))\n",
        "\n",
        "if numero <= 0:\n",
        "  if numero == 0:\n",
        "    print(\"Este é o numeral 0.\")\n",
        "  else:\n",
        "    print(f\"O número {numero} é negativo.\")\n",
        "\n",
        "else:\n",
        "  print(f\"O número {numero} é positivo.\")"
      ],
      "metadata": {
        "colab": {
          "base_uri": "https://localhost:8080/"
        },
        "id": "3Ncl98vCcPK1",
        "outputId": "ca50a31a-6587-42eb-c8c6-aeb701b43598"
      },
      "execution_count": 14,
      "outputs": [
        {
          "output_type": "stream",
          "name": "stdout",
          "text": [
            "Digite um número: 0\n",
            "Este é o numeral 0.\n"
          ]
        }
      ]
    },
    {
      "cell_type": "code",
      "source": [
        "numero = int(input(\"Digite um número: \"))\n",
        "\n",
        "print(f\"A tabuada do número {numero} é:\")\n",
        "for i in range(1,11):\n",
        "  tabuada = numero*i\n",
        "  print(f\"{numero} x {i} = {tabuada}\")\n"
      ],
      "metadata": {
        "colab": {
          "base_uri": "https://localhost:8080/"
        },
        "id": "VAni-yNac_Ks",
        "outputId": "1ca9c854-37ff-4c06-ff4b-7752b61210ef"
      },
      "execution_count": 17,
      "outputs": [
        {
          "output_type": "stream",
          "name": "stdout",
          "text": [
            "Digite um número: 9\n",
            "A tabuada do número 9 é:\n",
            "9 x 1 = 9\n",
            "9 x 2 = 18\n",
            "9 x 3 = 27\n",
            "9 x 4 = 36\n",
            "9 x 5 = 45\n",
            "9 x 6 = 54\n",
            "9 x 7 = 63\n",
            "9 x 8 = 72\n",
            "9 x 9 = 81\n",
            "9 x 10 = 90\n"
          ]
        }
      ]
    },
    {
      "cell_type": "code",
      "source": [
        "numeros = []\n",
        "\n",
        "for i in range(1,6):\n",
        "  numero = int(input(f\"Digite o {i} número: \"))\n",
        "  numeros.append(numero)\n",
        "\n",
        "print(f\"O maior número é {max(numeros)} e o menor é {min(numeros)}.\")"
      ],
      "metadata": {
        "colab": {
          "base_uri": "https://localhost:8080/"
        },
        "id": "jMJ81XqjdisJ",
        "outputId": "194206e0-3093-443d-f981-07773188fefd"
      },
      "execution_count": 21,
      "outputs": [
        {
          "output_type": "stream",
          "name": "stdout",
          "text": [
            "Digite o 1 número: 2\n",
            "Digite o 2 número: 499\n",
            "Digite o 3 número: 500\n",
            "Digite o 4 número: 20\n",
            "Digite o 5 número: 1\n",
            "O maior número é 500 e o menor é 1.\n"
          ]
        }
      ]
    },
    {
      "cell_type": "code",
      "source": [
        "numeros = []\n",
        "\n",
        "for i in range(1,5):\n",
        "  numero = int(input(f\"Digite o {i} número: \"))\n",
        "  numeros.append(numero)\n",
        "  if numero % 3 == 0:\n",
        "    print(\"Faz o M.\")\n"
      ],
      "metadata": {
        "colab": {
          "base_uri": "https://localhost:8080/"
        },
        "id": "FyvkZqZZevIH",
        "outputId": "6a399e52-5f8f-4eb7-bc81-dbb0d640bccc"
      },
      "execution_count": 25,
      "outputs": [
        {
          "name": "stdout",
          "output_type": "stream",
          "text": [
            "Digite o 1 número: 30\n",
            "Faz o M.\n",
            "Digite o 2 número: 25\n",
            "Digite o 3 número: 24\n",
            "Faz o M.\n",
            "Digite o 4 número: 4\n"
          ]
        }
      ]
    },
    {
      "cell_type": "code",
      "source": [
        "numeros = [1,2,3,4,5,6,7,8,9,10]\n",
        "\n",
        "for i in numeros:\n",
        "  if i % 2 == 0:\n",
        "    print(i)\n",
        ""
      ],
      "metadata": {
        "colab": {
          "base_uri": "https://localhost:8080/"
        },
        "id": "qo5E_aIMf5bG",
        "outputId": "d0a3b855-8270-4967-bfc0-fb19ed872d97"
      },
      "execution_count": 36,
      "outputs": [
        {
          "output_type": "stream",
          "name": "stdout",
          "text": [
            "2\n",
            "4\n",
            "6\n",
            "8\n",
            "10\n"
          ]
        }
      ]
    }
  ]
}